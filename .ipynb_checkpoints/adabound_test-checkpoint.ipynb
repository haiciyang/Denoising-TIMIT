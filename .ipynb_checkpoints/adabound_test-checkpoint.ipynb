{
 "cells": [
  {
   "cell_type": "code",
   "execution_count": 7,
   "metadata": {},
   "outputs": [
    {
     "name": "stderr",
     "output_type": "stream",
     "text": [
      "/media/sdb1/hy17/venv/lib/python3.6/site-packages/numba/errors.py:131: UserWarning: Insufficiently recent colorama version found. Numba requires colorama >= 0.3.9\n",
      "  warnings.warn(msg)\n"
     ]
    }
   ],
   "source": [
    "import os\n",
    "import numpy as np\n",
    "import librosa\n",
    "import librosa.display\n",
    "import adabound\n",
    "from models import *\n"
   ]
  },
  {
   "cell_type": "code",
   "execution_count": 24,
   "metadata": {},
   "outputs": [],
   "source": [
    "#def data_Loading():    \n",
    "timitTrPath='/media/sdc1/Data/timit-wav/train'\n",
    "timitTePath='/media/sdc1/Data/timit-wav/test'\n",
    "allTrSpkrPath=[] # #462\n",
    "allTeSpkrPath=[] # #168\n",
    "for dr in range(8):\n",
    "    rootPath=timitTrPath+'/dr{}'.format(dr+1)\n",
    "    allTrSpkrPath+= [os.path.join(rootPath,spkr) for spkr in os.listdir(rootPath) if os.path.isdir(os.path.join(rootPath, spkr))]\n",
    "    rootPath=timitTePath+'/dr{}'.format(dr+1)\n",
    "    allTeSpkrPath+= [os.path.join(rootPath,spkr) for spkr in os.listdir(rootPath) if os.path.isdir(os.path.join(rootPath, spkr))]\n",
    "\n",
    "\n",
    "np.random.seed(1)\n",
    "trSpkrIdx=np.random.permutation(len(allTrSpkrPath))[:100]\n",
    "teSpkrIdx=np.random.permutation(len(allTeSpkrPath))[:20]\n",
    "\n",
    "    \n",
    "np.random.seed(1)\n",
    "trUttPaths=[] #all wav filepath for train\n",
    "for i in trSpkrIdx:\n",
    "    for uttFiles in os.listdir(allTrSpkrPath[i]):\n",
    "        if uttFiles.endswith('.wav'):\n",
    "            trUttPaths+=[os.path.join(allTrSpkrPath[i],uttFiles)]\n",
    "\n",
    "\n",
    "teUttPaths=[] #all wav filepath for test\n",
    "for i in teSpkrIdx:\n",
    "    for uttFiles in os.listdir(allTeSpkrPath[i]):\n",
    "        if uttFiles.endswith('.wav'):\n",
    "            teUttPaths+=[os.path.join(allTeSpkrPath[i],uttFiles)]\n",
    "            \n",
    "\n",
    "\n",
    "\n"
   ]
  },
  {
   "cell_type": "code",
   "execution_count": 49,
   "metadata": {},
   "outputs": [],
   "source": [
    "# Add Noise\n",
    "noise_path = \"/media/sdc1/Data/Duan/computerkeyboard.wav\"\n",
    "n, nr = librosa.load(noise_path, sr=None)\n",
    "n /= np.std(n) # make sure equal loudness\n",
    "\n",
    "trs, tes, trx, tex, =[], [], []\n",
    "trX, teX, trY, teY =[], [], [], []\n",
    "len_n = len(n)\n",
    "for path in trUttPaths:\n",
    "    s, sr=librosa.load(path, sr=None)\n",
    "    s = s/np.std(s)\n",
    "    length = min(len(s),len_n)\n",
    "    trs.append(s[:length])\n",
    "    trx.append(s[:length] + n[:length])\n",
    "\n",
    "x = len(trs[0])\n",
    "for i in range(len(trs)):\n",
    "    x = min(x, len(trs[i]))\n",
    "trs = [i[:x] for i in trs] # truncate\n",
    "trx = [i[:x] for i in trx] # truncate\n",
    "\n",
    "# n = n[:lenth]\n",
    "# trX.append(20*np.log10(np.abs(librosa.stft(s+n, n_fft=1024, hop_length=256))))\n",
    "# trY.append(20*np.log10(np.abs(librosa.stft(s, n_fft=1024, hop_length=256))))\n",
    "\n",
    "for path in teUttPaths:\n",
    "    s, sr=librosa.load(path, sr=None)\n",
    "    s = s/np.std(s)\n",
    "    length = min(len(s),len_n)\n",
    "    tes.append(s[:length])\n",
    "    tex.append(s[:length] + n[:length])\n",
    "\n",
    "x = len(tes[0])\n",
    "for i in range(len(tes)):\n",
    "    x = min(x, len(trs[i]))\n",
    "tes = [i[:x] for i in tes] # truncate\n",
    "tex = [i[:x] for i in tex] # truncate"
   ]
  },
  {
   "cell_type": "code",
   "execution_count": 42,
   "metadata": {},
   "outputs": [],
   "source": [
    "x = min(x, len(trs[i]))"
   ]
  },
  {
   "cell_type": "code",
   "execution_count": 50,
   "metadata": {},
   "outputs": [
    {
     "data": {
      "text/plain": [
       "16180"
      ]
     },
     "execution_count": 50,
     "metadata": {},
     "output_type": "execute_result"
    }
   ],
   "source": [
    "len(trs[0])"
   ]
  },
  {
   "cell_type": "code",
   "execution_count": null,
   "metadata": {},
   "outputs": [],
   "source": [
    "bs=10\n",
    "eps=1e-20\n",
    "model=plain_cnn().cuda()\n",
    "\n",
    "optimizer= torch.optim.Adam(model.parameters(), lr=0.001)#, betas=[0.9, 0.999])\n",
    "# optimizer = adabound.AdaBound(model.parameters(), lr=1e-3, final_lr=0.1)\n",
    "maxEpoch=200\n",
    "errt=np.zeros(maxEpoch, dtype=np.float32)"
   ]
  },
  {
   "cell_type": "code",
   "execution_count": null,
   "metadata": {},
   "outputs": [],
   "source": [
    "bs = 50\n",
    "maxSDR = 0\n",
    "lambda1 = 1.\n",
    "epoch_siam = []\n",
    "\n",
    "for epoch in range(maxEpoch):    \n",
    "    model.train()\n",
    "    begin_ep = time.time()\n",
    "\n",
    "    for i in range(0,len(trX),bs):\n",
    "        mb=Variable(torch.cuda.FloatTensor((np.abs(np.transpose(np.asarray(trX[i:i+bs]), (2,0,1))))),\n",
    "                    requires_grad=False)\n",
    "        mbY=Variable(torch.cuda.FloatTensor((np.transpose(np.array(trY[i:i+bs]), (2,0,1)))), requires_grad=False)\n",
    "\n",
    "        trYh=model.forward(mb)      \n",
    "        err=torch.sum(-mbY*torch.log(trYh+eps)-(1-mbY)*torch.log(1-trYh+eps))\n",
    "\n",
    "#         err=torch.sum(-mbY1*torch.log(trYh1+eps)-(1-mbY1)*torch.log(1-trYh1+eps))+\\\n",
    "#                 torch.sum(-mbY2*torch.log(trYh2+eps)-(1-mbY2)*torch.log(1-trYh2+eps))\n",
    "\n",
    "        errt[epoch]+=err.data.cpu().numpy()\n",
    "        optimizer.zero_grad()\n",
    "        err.backward()\n",
    "        torch.nn.utils.clip_grad_norm_(model.parameters(),.0001)\n",
    "        optimizer.step()\n"
   ]
  }
 ],
 "metadata": {
  "kernelspec": {
   "display_name": "Python 3",
   "language": "python",
   "name": "python3"
  },
  "language_info": {
   "codemirror_mode": {
    "name": "ipython",
    "version": 3
   },
   "file_extension": ".py",
   "mimetype": "text/x-python",
   "name": "python",
   "nbconvert_exporter": "python",
   "pygments_lexer": "ipython3",
   "version": "3.6.8"
  }
 },
 "nbformat": 4,
 "nbformat_minor": 4
}
